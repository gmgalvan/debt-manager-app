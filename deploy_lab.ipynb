{
 "cells": [
  {
   "cell_type": "markdown",
   "metadata": {},
   "source": [
    "# Debt Manager App 💸  (Serverless GenAI App) Deployment Lab 🚀"
   ]
  },
  {
   "cell_type": "markdown",
   "metadata": {},
   "source": [
    "## Deployment of the S3 website"
   ]
  },
  {
   "cell_type": "markdown",
   "metadata": {},
   "source": [
    "Before deploying our AWS CDK stack, we must **bootstrap** our environment. This step:\n",
    "- Provisions necessary AWS resources such as an S3 bucket for storing deployment assets.\n",
    "- Ensures that CDK has the required permissions to deploy infrastructure.\n",
    "\n",
    "The following command is executed:"
   ]
  },
  {
   "cell_type": "code",
   "execution_count": null,
   "metadata": {},
   "outputs": [],
   "source": [
    "import subprocess\n",
    "\n",
    "def run_command(cmd, cwd=None):\n",
    "    \"\"\"\n",
    "    Runs a shell command and prints the output.\n",
    "    \"\"\"\n",
    "    print(f\"Running: {cmd}\")\n",
    "    process = subprocess.run(\n",
    "        cmd,\n",
    "        shell=True,\n",
    "        cwd=cwd,\n",
    "        stdout=subprocess.PIPE,\n",
    "        stderr=subprocess.PIPE,\n",
    "        universal_newlines=True\n",
    "    )\n",
    "    if process.stdout:\n",
    "        print(process.stdout)\n",
    "    if process.stderr:\n",
    "        print(\"Errors:\", process.stderr)"
   ]
  },
  {
   "cell_type": "code",
   "execution_count": null,
   "metadata": {},
   "outputs": [],
   "source": [
    "# Set the working directory for the CDK project (assuming your notebook is at the project root)\n",
    "cdk_dir = \"./cdk\"\n",
    "\n",
    "# Bootstrap the AWS environment (creates necessary resources for deployment)\n",
    "run_command(\"cdk bootstrap --toolkit-stack-name debt-maanger-webapp\", cwd=\"./cdk\")"
   ]
  },
  {
   "cell_type": "markdown",
   "metadata": {},
   "source": [
    "The **synthesis** process generates a CloudFormation template from our CDK code. This step:\n",
    "- Transforms our infrastructure-as-code definitions into a deployable AWS template.\n",
    "- Ensures that the CDK application is correctly configured before deployment.\n",
    "\n",
    "The following command is executed"
   ]
  },
  {
   "cell_type": "code",
   "execution_count": null,
   "metadata": {},
   "outputs": [],
   "source": [
    "run_command(\"cdk synth\", cwd=cdk_dir)"
   ]
  },
  {
   "cell_type": "markdown",
   "metadata": {},
   "source": [
    "In this step, we deploy our CDK stack to AWS. This process:\n",
    "- Provisions the S3 bucket configured for static website hosting.\n",
    "- Uploads the static website files to the bucket."
   ]
  },
  {
   "cell_type": "code",
   "execution_count": null,
   "metadata": {
    "scrolled": true
   },
   "outputs": [],
   "source": [
    "run_command(\"cdk deploy S3Web --require-approval never\", cwd=cdk_dir)"
   ]
  },
  {
   "cell_type": "code",
   "execution_count": null,
   "metadata": {},
   "outputs": [],
   "source": []
  }
 ],
 "metadata": {
  "kernelspec": {
   "display_name": "Python 3 (ipykernel)",
   "language": "python",
   "name": "python3"
  },
  "language_info": {
   "codemirror_mode": {
    "name": "ipython",
    "version": 3
   },
   "file_extension": ".py",
   "mimetype": "text/x-python",
   "name": "python",
   "nbconvert_exporter": "python",
   "pygments_lexer": "ipython3",
   "version": "3.9.21"
  }
 },
 "nbformat": 4,
 "nbformat_minor": 4
}
